{
 "cells": [
  {
   "cell_type": "code",
   "execution_count": 1,
   "metadata": {},
   "outputs": [],
   "source": [
    "import pandas as pd"
   ]
  },
  {
   "cell_type": "code",
   "execution_count": 2,
   "metadata": {},
   "outputs": [
    {
     "name": "stdout",
     "output_type": "stream",
     "text": [
      "      DeviceID        Date  Final_Daily_Readings  Daily_Consumption\n",
      "0  111-111-111  2024-11-11                 934.6               13.2\n",
      "1  111-111-111  2024-11-12                 946.2               11.6\n",
      "2  111-111-111  2024-11-13                 961.4               15.2\n",
      "3  111-111-111  2024-11-14                 973.1               11.7\n",
      "4  111-111-111  2024-11-15                 978.8                5.7\n"
     ]
    }
   ],
   "source": [
    "df = pd.read_csv('meterDatabase.txt', sep=',', encoding='utf-8')\n",
    "print(df.head())"
   ]
  },
  {
   "cell_type": "code",
   "execution_count": 3,
   "metadata": {},
   "outputs": [],
   "source": [
    "df_sorted = df.sort_values('Date', ascending=True)\n",
    "result = df_sorted.groupby('DeviceID').tail(1)"
   ]
  },
  {
   "cell_type": "code",
   "execution_count": 4,
   "metadata": {},
   "outputs": [
    {
     "data": {
      "text/html": [
       "<div>\n",
       "<style scoped>\n",
       "    .dataframe tbody tr th:only-of-type {\n",
       "        vertical-align: middle;\n",
       "    }\n",
       "\n",
       "    .dataframe tbody tr th {\n",
       "        vertical-align: top;\n",
       "    }\n",
       "\n",
       "    .dataframe thead th {\n",
       "        text-align: right;\n",
       "    }\n",
       "</style>\n",
       "<table border=\"1\" class=\"dataframe\">\n",
       "  <thead>\n",
       "    <tr style=\"text-align: right;\">\n",
       "      <th></th>\n",
       "      <th>DeviceID</th>\n",
       "      <th>Date</th>\n",
       "      <th>Final_Daily_Readings</th>\n",
       "      <th>Daily_Consumption</th>\n",
       "    </tr>\n",
       "  </thead>\n",
       "  <tbody>\n",
       "    <tr>\n",
       "      <th>706</th>\n",
       "      <td>777-777-777</td>\n",
       "      <td>2025-02-19</td>\n",
       "      <td>1662.9</td>\n",
       "      <td>14.1</td>\n",
       "    </tr>\n",
       "    <tr>\n",
       "      <th>201</th>\n",
       "      <td>222-222-222</td>\n",
       "      <td>2025-02-19</td>\n",
       "      <td>1573.5</td>\n",
       "      <td>6.0</td>\n",
       "    </tr>\n",
       "    <tr>\n",
       "      <th>807</th>\n",
       "      <td>888-888-888</td>\n",
       "      <td>2025-02-19</td>\n",
       "      <td>1485.8</td>\n",
       "      <td>7.2</td>\n",
       "    </tr>\n",
       "    <tr>\n",
       "      <th>504</th>\n",
       "      <td>555-555-555</td>\n",
       "      <td>2025-02-19</td>\n",
       "      <td>1651.5</td>\n",
       "      <td>10.6</td>\n",
       "    </tr>\n",
       "    <tr>\n",
       "      <th>403</th>\n",
       "      <td>444-444-444</td>\n",
       "      <td>2025-02-19</td>\n",
       "      <td>1401.9</td>\n",
       "      <td>13.1</td>\n",
       "    </tr>\n",
       "    <tr>\n",
       "      <th>100</th>\n",
       "      <td>111-111-111</td>\n",
       "      <td>2025-02-19</td>\n",
       "      <td>1978.7</td>\n",
       "      <td>16.4</td>\n",
       "    </tr>\n",
       "    <tr>\n",
       "      <th>302</th>\n",
       "      <td>333-333-333</td>\n",
       "      <td>2025-02-19</td>\n",
       "      <td>1764.0</td>\n",
       "      <td>9.8</td>\n",
       "    </tr>\n",
       "    <tr>\n",
       "      <th>605</th>\n",
       "      <td>666-666-666</td>\n",
       "      <td>2025-02-19</td>\n",
       "      <td>1455.0</td>\n",
       "      <td>15.1</td>\n",
       "    </tr>\n",
       "    <tr>\n",
       "      <th>908</th>\n",
       "      <td>999-999-999</td>\n",
       "      <td>2025-02-19</td>\n",
       "      <td>1651.3</td>\n",
       "      <td>15.2</td>\n",
       "    </tr>\n",
       "  </tbody>\n",
       "</table>\n",
       "</div>"
      ],
      "text/plain": [
       "        DeviceID        Date  Final_Daily_Readings  Daily_Consumption\n",
       "706  777-777-777  2025-02-19                1662.9               14.1\n",
       "201  222-222-222  2025-02-19                1573.5                6.0\n",
       "807  888-888-888  2025-02-19                1485.8                7.2\n",
       "504  555-555-555  2025-02-19                1651.5               10.6\n",
       "403  444-444-444  2025-02-19                1401.9               13.1\n",
       "100  111-111-111  2025-02-19                1978.7               16.4\n",
       "302  333-333-333  2025-02-19                1764.0                9.8\n",
       "605  666-666-666  2025-02-19                1455.0               15.1\n",
       "908  999-999-999  2025-02-19                1651.3               15.2"
      ]
     },
     "execution_count": 4,
     "metadata": {},
     "output_type": "execute_result"
    }
   ],
   "source": [
    "result"
   ]
  }
 ],
 "metadata": {
  "kernelspec": {
   "display_name": "Python 3",
   "language": "python",
   "name": "python3"
  },
  "language_info": {
   "codemirror_mode": {
    "name": "ipython",
    "version": 3
   },
   "file_extension": ".py",
   "mimetype": "text/x-python",
   "name": "python",
   "nbconvert_exporter": "python",
   "pygments_lexer": "ipython3",
   "version": "3.12.1"
  }
 },
 "nbformat": 4,
 "nbformat_minor": 2
}
